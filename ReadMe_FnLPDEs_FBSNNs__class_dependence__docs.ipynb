{
 "cells": [
  {
   "cell_type": "markdown",
   "metadata": {},
   "source": [
    "# Иерархия классов FBSNNs\n",
    "Зависимости-связи между class'ами (пакетами)"
   ]
  },
  {
   "cell_type": "code",
   "execution_count": 1,
   "metadata": {},
   "outputs": [],
   "source": [
    "import sys\n",
    "#print(sys.path)\n",
    "sys.path.insert(0,'..')\n",
    "#print(sys.path)"
   ]
  },
  {
   "cell_type": "code",
   "execution_count": 8,
   "metadata": {},
   "outputs": [],
   "source": [
    "_='''import sys\n",
    "print(__file__)\n",
    "print(sys.path)\n",
    "import os\n",
    "sys.path.insert( 0, os.path.abspath( os.path.join(os.path.dirname(__file__),  '..') ) )\n",
    "print(sys.path)\n",
    "'''"
   ]
  },
  {
   "cell_type": "markdown",
   "metadata": {},
   "source": [
    "### FBSNNs.py минимально исправленный оригинальный файл Raissi"
   ]
  },
  {
   "cell_type": "code",
   "execution_count": 3,
   "metadata": {
    "scrolled": true
   },
   "outputs": [
    {
     "name": "stdout",
     "output_type": "stream",
     "text": [
      "\n",
      "    class FBSNNs - минимально исправленный оригинальный файл Raissi\n",
      "    -- чтобы он запускался на tensorFlow2x\n",
      "    -- добавлен аттрибут self.tool = 'tensorflow 1x'\n",
      "    \n",
      "None\n"
     ]
    }
   ],
   "source": [
    "from FBSNNs import FBSNN\n",
    "# print( FBSNNs.__doc__  )\n",
    "print( FBSNN.__doc__ )\n",
    "print( FBSNN.__init__.__doc__ )"
   ]
  },
  {
   "cell_type": "markdown",
   "metadata": {},
   "source": [
    "далее идут fork'и оригинального класса Raissi"
   ]
  },
  {
   "cell_type": "markdown",
   "metadata": {},
   "source": [
    "### FBSNNs_tf1.py"
   ]
  },
  {
   "cell_type": "code",
   "execution_count": 6,
   "metadata": {},
   "outputs": [
    {
     "name": "stdout",
     "output_type": "stream",
     "text": [
      "\n",
      "  Documentation of FBSNNs_tf1\n",
      "  \n",
      "  class FBSNN_tf1(FBSNN) - модификация (by Chubatov Andrey) для оригинального класса FBSNN (by Raissi)\n",
      "\n",
      "\n",
      "    class FBSNN_tf1(FBSNN) - модификация (by Chubatov Andrey) для оригинального класса FBSNN (by Raissi)\n",
      "        - Добавлены новые параметры: s, name \n",
      "            s -- начальный момент времени в промежутке [s,T] (модифицирован метод fetch_minibatch)\n",
      "            name -- имя модели (задачи) для вывода в print и plot  \n",
      "        - Добавлены атрибуты: act_func, iterations, loss_n, loss_history, it_loss_history\n",
      "            act_func -- активационая функция (модифицирован метод neural_net)\n",
      "            iterations = 0 -- счетчик итераций (модифицированы методы: initialize_NN, train)\n",
      "            loss_n = 1 -- разные loss-function (подробнее в FBSNN_tf1.loss_function.__doc__) (модифицирован метод loss_function)\n",
      "            loss_history = [] -- loss history list (модифицирован метод train)\n",
      "            it_loss_history = 10 -- как часто сохраняется loss history (модифицирован метод train)\n",
      "        - Добавлен метод  __str__()\n",
      "        - Модифицированы методы (по сравнению с FBSNN): neural_net, initialize_NN, fetch_minibatch, loss_function, train\n",
      "    \n"
     ]
    }
   ],
   "source": [
    "import FBSNNs_tf1\n",
    "print( FBSNNs_tf1.__doc__ )\n",
    "from FBSNNs_tf1 import FBSNN_tf1\n",
    "print( FBSNN_tf1.__doc__ )"
   ]
  },
  {
   "cell_type": "code",
   "execution_count": 7,
   "metadata": {},
   "outputs": [
    {
     "name": "stdout",
     "output_type": "stream",
     "text": [
      "\n",
      "        FBSNN_tf1.__init__(Xi, T,\n",
      "                       M, N, D,\n",
      "                       layers, \n",
      "                       act_func = tf.sin, s=0, name='ModelFBSNN'):\n",
      "           \n",
      "        \n",
      "\n",
      "        FBSNN_tf1.neural_net(X, weights, biases):\n",
      "            - добавлен учет параметра act_func_ \n",
      "        \n",
      "\n",
      "        FBSNN_tf1.initialize_NN(layers):\n",
      "            - в методе initialize_NN() обнулен аттрубут self.iterations = 0 \n",
      "        \n",
      "\n",
      "        FBSNN_tf1.fetch_minibatch():\n",
      "            - учет начального момента s\n",
      "        \n",
      "\n",
      "        FBSNN_tf1.loss_function(t, W, Xi):\n",
      "            - легкая модификация loss'ов - добавление кроме loss еще loss0, loss1\n",
      "                loss0 = 1/self.M * ( sum0N + loss_uT )  # (self.loss_n == 0)    \n",
      "                loss1 = 1/self.M * ( sum0N + loss_uT + loss_DuT )  # (self.loss_n == 1)      \n",
      "                loss =  sum0N + loss_uT + loss_DuT # original Raissi loss (self.loss_n == else == OTHERWISE)\n",
      "            - чуть преписаын вычисления (например, s_dW вычисляется 1 раз, а не 2)\n",
      "                s_dW = tf.squeeze(tf.matmul(self.sigma_tf(t0,X0,Y0),tf.expand_dims(W1-W0,-1)), axis=[-1])                \n",
      "        \n",
      "\n",
      "        FBSNN_tf1.train(N_Iter, learning_rate, it_print=100):\n",
      "            - добавлен аргумент it_print=100\n",
      "            - учтен iterations, it_loss_history \n",
      "            - в процессе обучения заполняется loss_history\n",
      "            - добавлен учет NaN\n",
      "                if np.isnan(loss_value[0]): raise ValueError(f'NaN loss value! it={it}')\n",
      "        \n"
     ]
    }
   ],
   "source": [
    "print( FBSNN_tf1.__init__.__doc__ )\n",
    "print( FBSNN_tf1.neural_net.__doc__ )\n",
    "print( FBSNN_tf1.initialize_NN.__doc__ )\n",
    "print( FBSNN_tf1.fetch_minibatch.__doc__ )\n",
    "print( FBSNN_tf1.loss_function.__doc__ )\n",
    "print( FBSNN_tf1.train.__doc__ )"
   ]
  },
  {
   "cell_type": "markdown",
   "metadata": {},
   "source": [
    "### FBSNNs_plots.py"
   ]
  },
  {
   "cell_type": "code",
   "execution_count": 10,
   "metadata": {},
   "outputs": [
    {
     "name": "stdout",
     "output_type": "stream",
     "text": [
      "\n",
      "    plot_results(model, res, r=range(0,5), flag_err_info=0, u_name='u', Y_name='Y', ax = None)\n",
      "    вывод траекторий в заданной области\n",
      "    \n"
     ]
    }
   ],
   "source": [
    "from FBSNNs_plots import plot_results\n",
    "print( plot_results.__doc__ )"
   ]
  },
  {
   "cell_type": "markdown",
   "metadata": {},
   "source": [
    "### FBSNNs_tf1_FnL_1D.py"
   ]
  },
  {
   "cell_type": "code",
   "execution_count": 11,
   "metadata": {},
   "outputs": [
    {
     "name": "stdout",
     "output_type": "stream",
     "text": [
      " class FBSNN_tf1_FnL_1D(FBSNN_tf1): \n",
      "    # Forward-Backward Stochastic Neural Network for \n",
      "        - Fully non Linear Parabolic Equation (x in 1D)\n",
      "        - system (2eq=(1+D)eq) quasi linear PDE in 1D\n",
      "    \n",
      "    \n"
     ]
    }
   ],
   "source": [
    "from FBSNNs_tf1_FnL_1D import FBSNN_tf1_FnL_1D\n",
    "print( FBSNN_tf1_FnL_1D.__doc__ )"
   ]
  },
  {
   "cell_type": "code",
   "execution_count": null,
   "metadata": {},
   "outputs": [],
   "source": []
  }
 ],
 "metadata": {
  "kernelspec": {
   "display_name": "Python 3",
   "language": "python",
   "name": "python3"
  },
  "language_info": {
   "codemirror_mode": {
    "name": "ipython",
    "version": 3
   },
   "file_extension": ".py",
   "mimetype": "text/x-python",
   "name": "python",
   "nbconvert_exporter": "python",
   "pygments_lexer": "ipython3",
   "version": "3.8.5"
  }
 },
 "nbformat": 4,
 "nbformat_minor": 4
}
