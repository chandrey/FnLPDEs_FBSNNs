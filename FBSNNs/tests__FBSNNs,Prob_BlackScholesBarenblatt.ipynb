{
 "cells": [
  {
   "cell_type": "code",
   "execution_count": 1,
   "metadata": {},
   "outputs": [
    {
     "name": "stderr",
     "output_type": "stream",
     "text": [
      "C:\\Users\\chaa\\anaconda3\\lib\\site-packages\\pandas\\core\\computation\\expressions.py:20: UserWarning: Pandas requires version '2.7.3' or newer of 'numexpr' (version '2.7.1' currently installed).\n",
      "  from pandas.core.computation.check import NUMEXPR_INSTALLED\n"
     ]
    }
   ],
   "source": [
    "from Prob_BlackScholesBarenblatt import BlackScholesBarenblatt"
   ]
  },
  {
   "cell_type": "code",
   "execution_count": 2,
   "metadata": {},
   "outputs": [],
   "source": [
    "_ = '''\n",
    "from FBSNNs import FBSNN \n",
    "\n",
    "import numpy as np # for np.exp, np.sum\n",
    "import tensorflow as tf # for tf.sin, tf.reduce_sum, tf.linalg.diag\n",
    "\n",
    "# r = 0.0\n",
    "# sigma = 0.1\n",
    "class BlackScholesBarenblatt(FBSNN):\n",
    "    r = 0.0\n",
    "    sigma = 0.1\n",
    "    def __init__(self, Xi, T,\n",
    "                       M, N, D,\n",
    "                       layers):        \n",
    "        # self.r = 0.05\n",
    "        # self.sigma = 0.40\n",
    "        super().__init__(Xi, T,\n",
    "                         M, N, D,\n",
    "                         layers)        \n",
    "        self.r = 0.05\n",
    "        self.sigma = 0.40\n",
    "        \n",
    "    def __str__(self):\n",
    "        return super().__str__() + f'; r={self.r}, sigma={self.sigma}'\n",
    "        \n",
    "    # equation           \n",
    "    def phi_tf(self, t, X, Y, Z): # M x 1, M x D, M x 1, M x D\n",
    "        return self.r*(Y - tf.reduce_sum(X*Z, 1, keepdims = True)) # M x 1    \n",
    "    # terminal condition\n",
    "    def g_tf(self, X): # M x D\n",
    "        return tf.reduce_sum(X**2, 1, keepdims = True) # M x 1\n",
    "    \n",
    "    # X process \n",
    "    def mu_tf(self, t, X, Y, Z): # M x 1, M x D, M x 1, M x D\n",
    "        return super().mu_tf(t, X, Y, Z) # M x D        \n",
    "    def sigma_tf(self, t, X, Y): # M x 1, M x D, M x 1\n",
    "        return self.sigma*tf.linalg.diag(X) # M x D x D\n",
    "        # return sigma*tf.linalg.diag(X) # M x D x D\n",
    "    \n",
    "    # exact_solution\n",
    "    def u_exact(self, t, X): # (N+1) x 1, (N+1) x D\n",
    "        return np.exp( (self.r + self.sigma**2)*(self.T - t) ) * np.sum(X**2, 1, keepdims = True) # (N+1) x 1\n",
    "'''"
   ]
  },
  {
   "cell_type": "code",
   "execution_count": 3,
   "metadata": {},
   "outputs": [
    {
     "name": "stdout",
     "output_type": "stream",
     "text": [
      "None\n"
     ]
    }
   ],
   "source": [
    "print( BlackScholesBarenblatt.__doc__ )"
   ]
  },
  {
   "cell_type": "code",
   "execution_count": 4,
   "metadata": {},
   "outputs": [
    {
     "name": "stdout",
     "output_type": "stream",
     "text": [
      "\n",
      "    class FBSNNs - минимально исправленный оригинальный файл Raissi\n",
      "    -- чтобы он запускался на tensorFlow2x\n",
      "    -- добавлен аттрибут self.tool = 'tensorflow 1x'\n",
      "    \n"
     ]
    }
   ],
   "source": [
    "from FBSNNs import FBSNN\n",
    "print(FBSNN.__doc__)"
   ]
  },
  {
   "cell_type": "code",
   "execution_count": 5,
   "metadata": {},
   "outputs": [],
   "source": [
    "import numpy as np # for: np.array"
   ]
  },
  {
   "cell_type": "code",
   "execution_count": 6,
   "metadata": {},
   "outputs": [
    {
     "name": "stdout",
     "output_type": "stream",
     "text": [
      "[5, 32, 32, 32, 32, 1]\n",
      "(1, 4) [[1.  0.5 1.  0.5]]\n",
      "Device mapping: no known devices.\n",
      "model = <Prob_BlackScholesBarenblatt.BlackScholesBarenblatt object at 0x000002868B709D00>; r=0.05, sigma=0.4\n",
      "model.tool = tensorflow 1x\n",
      "hasattr(self, 'act_func')=False\n"
     ]
    }
   ],
   "source": [
    "## model\n",
    "M = 100 # number of trajectories (batch size)\n",
    "N = 10 # 20 # 50 # number of time snapshots\n",
    "D = 4 # 2 # 100 # number (even) of dimensions\n",
    "\n",
    "layer_size = 32 # 256\n",
    "    \n",
    "layers = [D+1] + 4*[layer_size] + [1]\n",
    "print( layers )\n",
    "\n",
    "Xi = np.array([1.0,0.5]*int(D/2))[None,:]\n",
    "print(Xi.shape, Xi)\n",
    "T = 1.0\n",
    "         \n",
    "model = BlackScholesBarenblatt(Xi, T,   M, N, D,   layers) # , act_f = 'sin')\n",
    "print( f'model = {model}') \n",
    "print( f'model.tool = {model.tool}' )\n",
    "print( f\"hasattr(self, 'act_func')={hasattr(model, 'act_func')}\" )"
   ]
  },
  {
   "cell_type": "code",
   "execution_count": 7,
   "metadata": {},
   "outputs": [
    {
     "name": "stdout",
     "output_type": "stream",
     "text": [
      "Класс = model.__class__ = <class 'Prob_BlackScholesBarenblatt.BlackScholesBarenblatt'>\n",
      "Предок = model.__class__.__bases__ = (<class 'FBSNNs.FBSNN'>,)\n"
     ]
    }
   ],
   "source": [
    "# print( f'model.tool.__class__.tool_ = {model.__class__.tool_}' )\n",
    "print( f'Класс = model.__class__ = {model.__class__}' )\n",
    "print( f'Предок = model.__class__.__bases__ = {model.__class__.__bases__}' )"
   ]
  },
  {
   "cell_type": "code",
   "execution_count": 8,
   "metadata": {
    "scrolled": true
   },
   "outputs": [],
   "source": [
    "# for k,v in model.__dict__.items(): print( f'{k} = \\t {v}' )"
   ]
  },
  {
   "cell_type": "code",
   "execution_count": 9,
   "metadata": {},
   "outputs": [
    {
     "name": "stdout",
     "output_type": "stream",
     "text": [
      "It: 0, Loss: 2.042e+03, Y0: 0.020, Time: 2.07, Learning Rate: 1.000e-03\n",
      "It: 10, Loss: 1.415e+03, Y0: 1.462, Time: 0.03, Learning Rate: 1.000e-03\n",
      "It: 20, Loss: 9.179e+02, Y0: 2.856, Time: 0.04, Learning Rate: 1.000e-03\n",
      "It: 30, Loss: 7.410e+02, Y0: 3.297, Time: 0.06, Learning Rate: 1.000e-03\n",
      "It: 40, Loss: 7.211e+02, Y0: 3.325, Time: 0.05, Learning Rate: 1.000e-03\n",
      "It: 50, Loss: 3.329e+02, Y0: 3.992, Time: 0.06, Learning Rate: 1.000e-03\n",
      "It: 60, Loss: 4.873e+02, Y0: 4.213, Time: 0.04, Learning Rate: 1.000e-03\n",
      "It: 70, Loss: 3.263e+02, Y0: 4.200, Time: 0.03, Learning Rate: 1.000e-03\n",
      "It: 80, Loss: 2.858e+02, Y0: 4.044, Time: 0.03, Learning Rate: 1.000e-03\n",
      "It: 90, Loss: 2.811e+02, Y0: 3.966, Time: 0.03, Learning Rate: 1.000e-03\n",
      "It: 100, Loss: 2.842e+02, Y0: 3.873, Time: 0.04, Learning Rate: 1.000e-03\n"
     ]
    }
   ],
   "source": [
    "# Training\n",
    "model.train(N_Iter = 1*10**2+1, learning_rate=1e-3)"
   ]
  },
  {
   "cell_type": "code",
   "execution_count": 10,
   "metadata": {},
   "outputs": [],
   "source": [
    "##### PLOT RESULTS\n",
    "    \n",
    "t_test, W_test = model.fetch_minibatch()\n",
    "\n",
    "X_pred, Y_pred = model.predict(Xi, t_test, W_test)\n",
    "# X_pred1, Y_pred1 = model.predict1(Xi, t_test, W_test)\n",
    "# print( max( np.abs(X_pred-X_pred1) ), max( np.abs(Y_pred-Y_pred1) ) )\n",
    "\n",
    "Y_test = np.reshape(model.u_exact(np.reshape(t_test[0:M,:,:],[-1,1]), np.reshape(X_pred[0:M,:,:],[-1,D])), [M,-1,1])"
   ]
  },
  {
   "cell_type": "code",
   "execution_count": 11,
   "metadata": {},
   "outputs": [
    {
     "name": "stdout",
     "output_type": "stream",
     "text": [
      "(100, 11, 1) (100, 11, 1) (100, 11, 1) (100, 11, 4)\n"
     ]
    }
   ],
   "source": [
    "print(t_test.shape, Y_test.shape, Y_pred.shape, X_pred.shape)"
   ]
  },
  {
   "cell_type": "code",
   "execution_count": 12,
   "metadata": {},
   "outputs": [],
   "source": [
    "res = (t_test, X_pred, Y_pred, Y_test)"
   ]
  },
  {
   "cell_type": "code",
   "execution_count": 13,
   "metadata": {},
   "outputs": [],
   "source": [
    "import matplotlib.pyplot as plt\n",
    "# from plotting import newfig, savefig      ## рушить постройку графиков"
   ]
  },
  {
   "cell_type": "code",
   "execution_count": 15,
   "metadata": {},
   "outputs": [],
   "source": [
    "from FBSNNs_plots import *"
   ]
  },
  {
   "cell_type": "code",
   "execution_count": 16,
   "metadata": {},
   "outputs": [
    {
     "data": {
      "text/plain": [
       "0.0"
      ]
     },
     "execution_count": 16,
     "metadata": {},
     "output_type": "execute_result"
    }
   ],
   "source": [
    "t_test[0,0,0]"
   ]
  },
  {
   "cell_type": "code",
   "execution_count": 18,
   "metadata": {},
   "outputs": [
    {
     "ename": "IndentationError",
     "evalue": "unindent does not match any outer indentation level (<tokenize>, line 35)",
     "output_type": "error",
     "traceback": [
      "\u001b[1;36m  File \u001b[1;32m\"<tokenize>\"\u001b[1;36m, line \u001b[1;32m35\u001b[0m\n\u001b[1;33m    '''\u001b[0m\n\u001b[1;37m    ^\u001b[0m\n\u001b[1;31mIndentationError\u001b[0m\u001b[1;31m:\u001b[0m unindent does not match any outer indentation level\n"
     ]
    }
   ],
   "source": [
    "'''\n",
    "def plot_reluts(model, res, r=range(0,5), flag_err_info=0):\n",
    "    t_test, X_pred, Y_pred, Y_test = res\n",
    "    # в классе FBSNN нет аттрибутов name, s\n",
    "    name_ = 'FBSNNs' if not hasattr(model, 'name') else model.name\n",
    "    s_ = 0 if not hasattr(model, 's') else model.s # s=0\n",
    "    ## s_ = t_test[0,0,0] if not hasattr(model, 's') else model.s # взять s из t_test \n",
    "    # в классе FBSNN_tf1 есть аттрибуты name, s   \n",
    "    rmin = min(r)\n",
    "    rmax = max(r)+1\n",
    "    plt.figure() ## \n",
    "    # 0-я траектория \n",
    "    plt.plot(t_test[rmin,:,0].T,Y_pred[rmin,:,0].T,'b',label='Learned $u(t,X_t)$')\n",
    "    plt.plot(t_test[rmin,:,0].T,Y_test[rmin,:,0].T,'r--',label='Exact $u(t,X_t)$')\n",
    "    plt.plot(t_test[rmin,-1,0],Y_test[rmin,-1,0],'ks',label='$Y_T = u(T,X_T)$')\n",
    "    # остальные траектории\n",
    "    plt.plot(t_test[rmin+1:rmax,:,0].T, Y_pred[rmin+1:rmax,:,0].T, 'b')\n",
    "    plt.plot(t_test[rmin+1:rmax,:,0].T, Y_test[rmin+1:rmax,:,0].T, 'r--')\n",
    "    plt.plot(t_test[rmin+1:rmax,-1,0],  Y_test[rmin+1:rmax,-1,0],  'ks')\n",
    "\n",
    "    # plt.plot([s_],Y_test[0,0,0],'ks',label = f'$Y_s = Y_\\{{s_}\\}=u(\\{{s_}\\},X_\\{{s_}\\}=\\\\xi)$')\n",
    "    plt.plot([s_],Y_test[0,0,0],'ko',label = '$Y_s = Y_{'+f'{s_}'+'}=u({'+f'{s_}'+'},X_{'+f'{s_}'+'}=\\\\xi)$')\n",
    "    \n",
    "    plt.xlabel('$t$')\n",
    "    plt.ylabel('$Y_t = u(t,X_t)$')\n",
    "    \n",
    "    rel_err_t0 = abs( (Y_pred[0,0,0]-Y_test[0,0,0])/Y_test[0,0,0] ) # ошибка в значении u(0, xi)\n",
    "    if flag_err_info == 1:\n",
    "        err_info = 'err_info' + ' $rel\\_err_{t=' + f'{s_}'+'}$ = '+f'{rel_err_t0:.4f}' \n",
    "        ''' err_info = f' rel_err = {calc_error_point(Y_pred, Y_test, r)[3]} \\n' +\n",
    "              f' $||rel\\_err||_1$ = {calc_rel_error_traj(Y_pred, Y_test, r, norm_ord=1)} \\n' +\n",
    "              f' $||rel\\_err||_2$ = {calc_rel_error_traj(Y_pred, Y_test, r, norm_ord=2)} \\n' +\n",
    "              f' $||rel\\_err||_\\infty$ = {calc_rel_error_traj(Y_pred, Y_test, r, norm_ord=np.inf)} \\n' +\n",
    "              ' $rel\\_err_{t=0}$ = '+f'{rel_err_t0:.4f}' \n",
    "        '''\n",
    "    else: err_info = ''\n",
    "    plt.title( f'{model.D}-dimensional {name_} (trajectories={r}) \\n' + err_info )\n",
    "    plt.legend()\n",
    "    plt.grid()\n",
    "'''"
   ]
  },
  {
   "cell_type": "code",
   "execution_count": null,
   "metadata": {},
   "outputs": [],
   "source": []
  },
  {
   "cell_type": "code",
   "execution_count": 21,
   "metadata": {},
   "outputs": [
    {
     "name": "stdout",
     "output_type": "stream",
     "text": [
      "False\n",
      "False\n"
     ]
    },
    {
     "ename": "AttributeError",
     "evalue": "'BlackScholesBarenblatt' object has no attribute 'loss_history'",
     "output_type": "error",
     "traceback": [
      "\u001b[1;31m---------------------------------------------------------------------------\u001b[0m",
      "\u001b[1;31mAttributeError\u001b[0m                            Traceback (most recent call last)",
      "\u001b[1;32m<ipython-input-21-23fd6caf419a>\u001b[0m in \u001b[0;36m<module>\u001b[1;34m\u001b[0m\n\u001b[0;32m      5\u001b[0m \u001b[0mprint\u001b[0m\u001b[1;33m(\u001b[0m \u001b[0mhasattr\u001b[0m\u001b[1;33m(\u001b[0m\u001b[0mmodel\u001b[0m\u001b[1;33m,\u001b[0m \u001b[1;34m's'\u001b[0m\u001b[1;33m)\u001b[0m \u001b[1;33m)\u001b[0m\u001b[1;33m\u001b[0m\u001b[1;33m\u001b[0m\u001b[0m\n\u001b[0;32m      6\u001b[0m \u001b[1;33m\u001b[0m\u001b[0m\n\u001b[1;32m----> 7\u001b[1;33m \u001b[0mplot_results\u001b[0m\u001b[1;33m(\u001b[0m\u001b[0mmodel\u001b[0m\u001b[1;33m,\u001b[0m \u001b[0mres\u001b[0m\u001b[1;33m)\u001b[0m\u001b[1;33m\u001b[0m\u001b[1;33m\u001b[0m\u001b[0m\n\u001b[0m",
      "\u001b[1;32m~\\Documents\\_iPyNB\\___diss_ipynb\\non-linear_eq_solution\\__FBSNNs_MY\\_my FnLPDEs_FBSNNs\\FBSNNs\\FBSNNs_plots.py\u001b[0m in \u001b[0;36mplot_results\u001b[1;34m(model, res, r, flag_err_info, u_name, Y_name, ax)\u001b[0m\n\u001b[0;32m     38\u001b[0m \u001b[1;33m\u001b[0m\u001b[0m\n\u001b[0;32m     39\u001b[0m     \u001b[0mrel_err_t0\u001b[0m \u001b[1;33m=\u001b[0m \u001b[0mabs\u001b[0m\u001b[1;33m(\u001b[0m \u001b[1;33m(\u001b[0m\u001b[0mY_pred\u001b[0m\u001b[1;33m[\u001b[0m\u001b[1;36m0\u001b[0m\u001b[1;33m,\u001b[0m\u001b[1;36m0\u001b[0m\u001b[1;33m,\u001b[0m\u001b[1;36m0\u001b[0m\u001b[1;33m]\u001b[0m\u001b[1;33m-\u001b[0m\u001b[0mY_test\u001b[0m\u001b[1;33m[\u001b[0m\u001b[1;36m0\u001b[0m\u001b[1;33m,\u001b[0m\u001b[1;36m0\u001b[0m\u001b[1;33m,\u001b[0m\u001b[1;36m0\u001b[0m\u001b[1;33m]\u001b[0m\u001b[1;33m)\u001b[0m\u001b[1;33m/\u001b[0m\u001b[0mY_test\u001b[0m\u001b[1;33m[\u001b[0m\u001b[1;36m0\u001b[0m\u001b[1;33m,\u001b[0m\u001b[1;36m0\u001b[0m\u001b[1;33m,\u001b[0m\u001b[1;36m0\u001b[0m\u001b[1;33m]\u001b[0m \u001b[1;33m)\u001b[0m \u001b[1;31m# ошибка в значении u(0, xi)\u001b[0m\u001b[1;33m\u001b[0m\u001b[1;33m\u001b[0m\u001b[0m\n\u001b[1;32m---> 40\u001b[1;33m     \u001b[0mit\u001b[0m\u001b[1;33m,\u001b[0m\u001b[0mloss\u001b[0m \u001b[1;33m=\u001b[0m \u001b[0mnp\u001b[0m\u001b[1;33m.\u001b[0m\u001b[0marray\u001b[0m\u001b[1;33m(\u001b[0m\u001b[0mmodel\u001b[0m\u001b[1;33m.\u001b[0m\u001b[0mloss_history\u001b[0m\u001b[1;33m)\u001b[0m\u001b[1;33m.\u001b[0m\u001b[0mT\u001b[0m\u001b[1;33m[\u001b[0m\u001b[1;33m:\u001b[0m\u001b[1;33m,\u001b[0m\u001b[1;33m-\u001b[0m\u001b[1;36m1\u001b[0m\u001b[1;33m]\u001b[0m\u001b[1;33m\u001b[0m\u001b[1;33m\u001b[0m\u001b[0m\n\u001b[0m\u001b[0;32m     41\u001b[0m     \u001b[0mnn_info1\u001b[0m \u001b[1;33m=\u001b[0m \u001b[1;34mf'N={model.N}, M={model.M}, layers={model.layers}, \\n act_f={model.act_func_name}, it={it}, loss={loss:.4e}\\n'\u001b[0m\u001b[1;33m\u001b[0m\u001b[1;33m\u001b[0m\u001b[0m\n\u001b[0;32m     42\u001b[0m     \u001b[0mnn_info2\u001b[0m \u001b[1;33m=\u001b[0m \u001b[1;34m''\u001b[0m\u001b[1;33m\u001b[0m\u001b[1;33m\u001b[0m\u001b[0m\n",
      "\u001b[1;31mAttributeError\u001b[0m: 'BlackScholesBarenblatt' object has no attribute 'loss_history'"
     ]
    },
    {
     "data": {
      "image/png": "[encoded data removed]",
      "text/plain": [
       "<Figure size 432x288 with 1 Axes>"
      ]
     },
     "metadata": {
      "needs_background": "light"
     },
     "output_type": "display_data"
    }
   ],
   "source": [
    "# в классе FBSNN нет аттрибутов name, s\n",
    "if hasattr(model, 'name') : del model.name\n",
    "if hasattr(model, 's') : del model.s\n",
    "print( hasattr(model, 'name') )\n",
    "print( hasattr(model, 's') )\n",
    "\n",
    "plot_results(model, res)"
   ]
  },
  {
   "cell_type": "code",
   "execution_count": 22,
   "metadata": {},
   "outputs": [
    {
     "name": "stdout",
     "output_type": "stream",
     "text": [
      "True\n",
      "True\n"
     ]
    },
    {
     "ename": "AttributeError",
     "evalue": "'BlackScholesBarenblatt' object has no attribute 'loss_history'",
     "output_type": "error",
     "traceback": [
      "\u001b[1;31m---------------------------------------------------------------------------\u001b[0m",
      "\u001b[1;31mAttributeError\u001b[0m                            Traceback (most recent call last)",
      "\u001b[1;32m<ipython-input-22-b6911bcfd301>\u001b[0m in \u001b[0;36m<module>\u001b[1;34m\u001b[0m\n\u001b[0;32m      7\u001b[0m \u001b[0mprint\u001b[0m\u001b[1;33m(\u001b[0m \u001b[0mhasattr\u001b[0m\u001b[1;33m(\u001b[0m\u001b[0mmodel\u001b[0m\u001b[1;33m,\u001b[0m \u001b[1;34m's'\u001b[0m\u001b[1;33m)\u001b[0m \u001b[1;33m)\u001b[0m\u001b[1;33m\u001b[0m\u001b[1;33m\u001b[0m\u001b[0m\n\u001b[0;32m      8\u001b[0m \u001b[1;33m\u001b[0m\u001b[0m\n\u001b[1;32m----> 9\u001b[1;33m \u001b[0mplot_results\u001b[0m\u001b[1;33m(\u001b[0m\u001b[0mmodel\u001b[0m\u001b[1;33m,\u001b[0m \u001b[0mres\u001b[0m\u001b[1;33m,\u001b[0m \u001b[0mr\u001b[0m\u001b[1;33m=\u001b[0m\u001b[0mrange\u001b[0m\u001b[1;33m(\u001b[0m\u001b[1;36m0\u001b[0m\u001b[1;33m,\u001b[0m\u001b[1;36m3\u001b[0m\u001b[1;33m)\u001b[0m\u001b[1;33m,\u001b[0m \u001b[0mflag_err_info\u001b[0m\u001b[1;33m=\u001b[0m\u001b[1;36m1\u001b[0m\u001b[1;33m)\u001b[0m\u001b[1;33m\u001b[0m\u001b[1;33m\u001b[0m\u001b[0m\n\u001b[0m",
      "\u001b[1;32m~\\Documents\\_iPyNB\\___diss_ipynb\\non-linear_eq_solution\\__FBSNNs_MY\\_my FnLPDEs_FBSNNs\\FBSNNs\\FBSNNs_plots.py\u001b[0m in \u001b[0;36mplot_results\u001b[1;34m(model, res, r, flag_err_info, u_name, Y_name, ax)\u001b[0m\n\u001b[0;32m     38\u001b[0m \u001b[1;33m\u001b[0m\u001b[0m\n\u001b[0;32m     39\u001b[0m     \u001b[0mrel_err_t0\u001b[0m \u001b[1;33m=\u001b[0m \u001b[0mabs\u001b[0m\u001b[1;33m(\u001b[0m \u001b[1;33m(\u001b[0m\u001b[0mY_pred\u001b[0m\u001b[1;33m[\u001b[0m\u001b[1;36m0\u001b[0m\u001b[1;33m,\u001b[0m\u001b[1;36m0\u001b[0m\u001b[1;33m,\u001b[0m\u001b[1;36m0\u001b[0m\u001b[1;33m]\u001b[0m\u001b[1;33m-\u001b[0m\u001b[0mY_test\u001b[0m\u001b[1;33m[\u001b[0m\u001b[1;36m0\u001b[0m\u001b[1;33m,\u001b[0m\u001b[1;36m0\u001b[0m\u001b[1;33m,\u001b[0m\u001b[1;36m0\u001b[0m\u001b[1;33m]\u001b[0m\u001b[1;33m)\u001b[0m\u001b[1;33m/\u001b[0m\u001b[0mY_test\u001b[0m\u001b[1;33m[\u001b[0m\u001b[1;36m0\u001b[0m\u001b[1;33m,\u001b[0m\u001b[1;36m0\u001b[0m\u001b[1;33m,\u001b[0m\u001b[1;36m0\u001b[0m\u001b[1;33m]\u001b[0m \u001b[1;33m)\u001b[0m \u001b[1;31m# ошибка в значении u(0, xi)\u001b[0m\u001b[1;33m\u001b[0m\u001b[1;33m\u001b[0m\u001b[0m\n\u001b[1;32m---> 40\u001b[1;33m     \u001b[0mit\u001b[0m\u001b[1;33m,\u001b[0m\u001b[0mloss\u001b[0m \u001b[1;33m=\u001b[0m \u001b[0mnp\u001b[0m\u001b[1;33m.\u001b[0m\u001b[0marray\u001b[0m\u001b[1;33m(\u001b[0m\u001b[0mmodel\u001b[0m\u001b[1;33m.\u001b[0m\u001b[0mloss_history\u001b[0m\u001b[1;33m)\u001b[0m\u001b[1;33m.\u001b[0m\u001b[0mT\u001b[0m\u001b[1;33m[\u001b[0m\u001b[1;33m:\u001b[0m\u001b[1;33m,\u001b[0m\u001b[1;33m-\u001b[0m\u001b[1;36m1\u001b[0m\u001b[1;33m]\u001b[0m\u001b[1;33m\u001b[0m\u001b[1;33m\u001b[0m\u001b[0m\n\u001b[0m\u001b[0;32m     41\u001b[0m     \u001b[0mnn_info1\u001b[0m \u001b[1;33m=\u001b[0m \u001b[1;34mf'N={model.N}, M={model.M}, layers={model.layers}, \\n act_f={model.act_func_name}, it={it}, loss={loss:.4e}\\n'\u001b[0m\u001b[1;33m\u001b[0m\u001b[1;33m\u001b[0m\u001b[0m\n\u001b[0;32m     42\u001b[0m     \u001b[0mnn_info2\u001b[0m \u001b[1;33m=\u001b[0m \u001b[1;34m''\u001b[0m\u001b[1;33m\u001b[0m\u001b[1;33m\u001b[0m\u001b[0m\n",
      "\u001b[1;31mAttributeError\u001b[0m: 'BlackScholesBarenblatt' object has no attribute 'loss_history'"
     ]
    },
    {
     "data": {
      "image/png": "[encoded data removed]",
      "text/plain": [
       "<Figure size 432x288 with 1 Axes>"
      ]
     },
     "metadata": {
      "needs_background": "light"
     },
     "output_type": "display_data"
    }
   ],
   "source": [
    "# if hasattr(model, 'name') : del model.name\n",
    "# if hasattr(model, 's') : del model.s\n",
    "# в классе FBSNN нет аттрибутов name, s, поэтому зададим их явно\n",
    "if not hasattr(model, 'name') : model.name = 'BlackScholesBarenblatt'\n",
    "if not hasattr(model, 's') : model.s = 0.0\n",
    "print( hasattr(model, 'name') )\n",
    "print( hasattr(model, 's') )\n",
    "\n",
    "plot_results(model, res, r=range(0,3), flag_err_info=1)"
   ]
  },
  {
   "cell_type": "code",
   "execution_count": null,
   "metadata": {},
   "outputs": [],
   "source": [
    "## TODO def plot_errors"
   ]
  },
  {
   "cell_type": "code",
   "execution_count": 59,
   "metadata": {},
   "outputs": [
    {
     "data": {
      "text/plain": [
       "<matplotlib.legend.Legend at 0x1c32929d9d0>"
      ]
     },
     "execution_count": 59,
     "metadata": {},
     "output_type": "execute_result"
    },
    {
     "data": {
      "image/png": "[encoded data removed]",
      "text/plain": [
       "<Figure size 432x288 with 1 Axes>"
      ]
     },
     "metadata": {
      "needs_background": "light"
     },
     "output_type": "display_data"
    }
   ],
   "source": [
    "    errors = np.abs( (Y_test-Y_pred)/Y_test ) # np.sqrt( (Y_test-Y_pred)**2/Y_test**2 )\n",
    "    mean_errors = np.mean(errors,0)\n",
    "    std_errors = np.std(errors,0)\n",
    "    \n",
    "    plt.figure()\n",
    "    plt.plot(t_test[0,:,0],mean_errors,'b',label='mean')\n",
    "    plt.plot(t_test[0,:,0],mean_errors+2*std_errors,'r--',label='mean + two standard deviations')\n",
    "    plt.xlabel('$t$')\n",
    "    plt.ylabel('relative error')\n",
    "    plt.title( f'{D}-dimensional Black-Scholes-Barenblatt')\n",
    "    plt.legend()\n",
    "    \n",
    "    # savefig('./figures/BSB_Apr18_50_errors', crop = False)"
   ]
  },
  {
   "cell_type": "code",
   "execution_count": 24,
   "metadata": {},
   "outputs": [
    {
     "data": {
      "text/plain": [
       "<Figure size 432x288 with 0 Axes>"
      ]
     },
     "metadata": {},
     "output_type": "display_data"
    }
   ],
   "source": [
    "plt.savefig('{}.pdf'.format('./figures/BSB_20240407_10_errors'))\n",
    "# savefig('./figures/BSB_20230721_50_errors', crop = False)"
   ]
  },
  {
   "cell_type": "code",
   "execution_count": null,
   "metadata": {},
   "outputs": [],
   "source": []
  }
 ],
 "metadata": {
  "kernelspec": {
   "display_name": "Python 3",
   "language": "python",
   "name": "python3"
  },
  "language_info": {
   "codemirror_mode": {
    "name": "ipython",
    "version": 3
   },
   "file_extension": ".py",
   "mimetype": "text/x-python",
   "name": "python",
   "nbconvert_exporter": "python",
   "pygments_lexer": "ipython3",
   "version": "3.8.5"
  }
 },
 "nbformat": 4,
 "nbformat_minor": 4
}
